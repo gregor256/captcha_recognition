{
 "cells": [
  {
   "cell_type": "code",
   "execution_count": 1,
   "id": "d6758188",
   "metadata": {},
   "outputs": [],
   "source": [
    "import torch\n",
    "from torch.utils.data import Dataset, DataLoader\n",
    "import os \n",
    "from PIL import Image\n",
    "import numpy as np\n",
    "import pandas as pd\n",
    "from sklearn.model_selection import train_test_split\n",
    "import string\n",
    "import torchvision.transforms as transforms\n",
    "\n",
    "\n",
    "def get_mean_std(dataset_class, names_train, path, is_train, transform):\n",
    "    dataset = dataset_class(names_train, PATH, is_train, transform)\n",
    "    train_tensors = [dataset[i][0] for i in range(len(names_train))]\n",
    "    train_tensors_stack = torch.stack(train_tensors)\n",
    "    return train_tensors_stack.mean(), train_tensors_stack.std()\n",
    "\n",
    "\n",
    "class CaptchaDataset(Dataset):\n",
    "    def __init__(self, dataframe, root_dir, is_train, transform=None):\n",
    "        self.dataframe = dataframe\n",
    "        self.root_dir = root_dir\n",
    "        self.is_train = is_train\n",
    "        self.transform = transform\n",
    "\n",
    "    def __len__(self):\n",
    "        return len(self.dataframe)\n",
    "    \n",
    "    def __getitem__(self, index):\n",
    "        if torch.is_tensor(index):\n",
    "            index = index.tolist()\n",
    "            \n",
    "        symbols = list(map(str, range(10))) + list(string.ascii_lowercase) \n",
    "        symbol_to_id = {key: value for value, key in enumerate(symbols)}\n",
    "        \n",
    "        img_name = os.path.join(self.root_dir, self.dataframe['filename'][index])\n",
    "        image = Image.open(img_name).convert('L')\n",
    "        \n",
    "        \n",
    "        if self.is_train:\n",
    "            label = torch.tensor(np.array(\n",
    "                [symbol_to_id[idx] for idx in self.dataframe['label'][index]]))   \n",
    "        else:\n",
    "            label = torch.tensor(np.zeros(5))\n",
    "        \n",
    "        if self.transform:\n",
    "            img_tensor = self.transform(image)\n",
    "#             img_tensor = img_tensor[:,0,:,:]\n",
    "#             img_tensor = img_tensor[:, : :, 30:145]\n",
    "            \n",
    "        return img_tensor, label[0]\n",
    "    \n",
    "    \n",
    "\n",
    "def get_train_test_names(root_dir, test_size=0.2):\n",
    "    picture_names = [[picture_name, picture_name[: -4]] for picture_name\n",
    "                     in os.listdir(root_dir)]\n",
    "\n",
    "    names_dataframe = pd.DataFrame(picture_names, columns=('filename', 'label'))\n",
    "    names_train, names_test = train_test_split(names_dataframe, \n",
    "                                   test_size=test_size, \n",
    "                                   random_state=42)\n",
    "    return names_train.reset_index(drop=True), names_test.reset_index(drop=True)\n",
    "\n",
    "\n"
   ]
  },
  {
   "cell_type": "code",
   "execution_count": 2,
   "id": "f0ab87bb",
   "metadata": {},
   "outputs": [],
   "source": [
    "PATH = r'captcha_dataset/samples'\n",
    "\n",
    "transform_to_tensor = transforms.Compose([\n",
    "    transforms.ToTensor()\n",
    "])\n",
    "\n",
    "names_train, names_test = get_train_test_names(PATH)\n",
    "\n",
    "sample_mean, sample_std = get_mean_std(CaptchaDataset, names_train, PATH, 1, transform_to_tensor)\n",
    "\n",
    "transform_to_tensor_and_norm = transforms.Compose([\n",
    "    transforms.ToTensor(),\n",
    "    transforms.Normalize(sample_mean, sample_std)\n",
    "])\n",
    "\n",
    "trainset = CaptchaDataset(names_train, PATH, 1, transform_to_tensor_and_norm)\n",
    "testset = CaptchaDataset(names_test, PATH, 1, transform_to_tensor_and_norm)\n",
    "\n",
    "batch_size = 5\n",
    "num_workers = 1\n",
    "\n",
    "trainloader = torch.utils.data.DataLoader(trainset, batch_size=batch_size,\n",
    "                                          shuffle=True, num_workers=num_workers)\n",
    "\n",
    "testloader = torch.utils.data.DataLoader(testset, batch_size=batch_size,\n",
    "                                         shuffle=False, num_workers=num_workers)\n",
    "\n",
    "# for i, data in enumerate(trainloader):\n",
    "#     p, l = data\n",
    "# #     p = p[:,0,:,:]\n",
    "#     print(p.size())\n",
    "#     break\n",
    "    \n",
    "# trainset[0][0]"
   ]
  },
  {
   "cell_type": "code",
   "execution_count": 3,
   "id": "ed80f38a",
   "metadata": {},
   "outputs": [],
   "source": [
    "def train_model(net, criterion, optimizer, trainloader, num_epochs=5):\n",
    "    for epoch in range(num_epochs):\n",
    "        running_loss = 0.0\n",
    "        for i, data in enumerate(trainloader):\n",
    "#             print(f'{data=}')\n",
    "            inputs, labels = data\n",
    "#             print(f'{inputs.size()=}')\n",
    "            \n",
    "            optimizer.zero_grad()\n",
    "            outputs = net(inputs)\n",
    "            loss = criterion(outputs, labels)\n",
    "            loss.backward()\n",
    "            optimizer.step()\n",
    "            \n",
    "\n",
    "            running_loss += loss.item()\n",
    "            if i % 200 == 199:\n",
    "                print('Epoch {0}/{1}, iteration {2}, loss: {3:.3f}'.format(\n",
    "                    epoch + 1, num_epochs, i + 1, running_loss / 2000))\n",
    "                running_loss = 0.0\n",
    "        print()\n",
    "\n",
    "    print('Finished Training')\n",
    "    \n",
    "    return net"
   ]
  },
  {
   "cell_type": "code",
   "execution_count": 4,
   "id": "cbeac1fa",
   "metadata": {},
   "outputs": [],
   "source": [
    "def all_accuracy(net, testloader):\n",
    "    correct = 0\n",
    "    total = 0\n",
    "    with torch.no_grad():\n",
    "        for data in testloader:\n",
    "            images, labels = data\n",
    "            outputs = net(images)\n",
    "            _, predicted = torch.max(outputs, 1)\n",
    "            \n",
    "            \n",
    "            \n",
    "            total += labels.size(0)\n",
    "            correct += (predicted == labels).sum().item()\n",
    "\n",
    "    print('Accuracy of the network on the 10000 test images: {} %'.format(\n",
    "        100 * correct / total))"
   ]
  },
  {
   "cell_type": "code",
   "execution_count": 5,
   "id": "12db0115",
   "metadata": {},
   "outputs": [],
   "source": [
    "import torch.nn as nn\n",
    "import torch.nn.functional as F\n",
    "\n",
    "\n",
    "class FeedForwardNet(nn.Module):\n",
    "    def __init__(self):\n",
    "        super(FeedForwardNet, self).__init__()\n",
    "        self.fc1 = nn.Linear(in_features=50 * 200, out_features=128)\n",
    "        self.fc2 = nn.Linear(in_features=128, out_features=36)\n",
    "        \n",
    "    def forward(self, x):\n",
    "        \n",
    "#         print('before flatten', x.size())\n",
    "        x = torch.flatten(x, 1)\n",
    "#         print(x.size())\n",
    "        x = self.fc1(x)\n",
    "        x = F.relu(x)\n",
    "        x = self.fc2(x)\n",
    "        \n",
    "        return x\n",
    "    \n",
    "net = FeedForwardNet()"
   ]
  },
  {
   "cell_type": "code",
   "execution_count": 6,
   "id": "41d4d2c8",
   "metadata": {},
   "outputs": [],
   "source": [
    "import torch.optim as optim\n",
    "\n",
    "criterion = nn.CrossEntropyLoss()\n",
    "optimizer = optim.SGD(net.parameters(), lr=0.001, momentum=0.9)"
   ]
  },
  {
   "cell_type": "code",
   "execution_count": 7,
   "id": "6b81e07b",
   "metadata": {},
   "outputs": [
    {
     "name": "stdout",
     "output_type": "stream",
     "text": [
      "\n",
      "\n",
      "\n",
      "\n",
      "\n",
      "Finished Training\n"
     ]
    }
   ],
   "source": [
    "net = train_model(net, criterion, optimizer, trainloader, num_epochs=5)"
   ]
  },
  {
   "cell_type": "code",
   "execution_count": 9,
   "id": "66996ecc",
   "metadata": {},
   "outputs": [
    {
     "name": "stdout",
     "output_type": "stream",
     "text": [
      "Accuracy of the network on the 10000 test images: 97.66355140186916 %\n"
     ]
    }
   ],
   "source": [
    "all_accuracy(net, testloader)"
   ]
  },
  {
   "cell_type": "code",
   "execution_count": 46,
   "id": "dcbea36d",
   "metadata": {},
   "outputs": [
    {
     "name": "stdout",
     "output_type": "stream",
     "text": [
      "tensor(23)\n"
     ]
    },
    {
     "name": "stderr",
     "output_type": "stream",
     "text": [
      "/tmp/ipykernel_9205/2290719645.py:5: UserWarning: Implicit dimension choice for softmax has been deprecated. Change the call to include dim=X as an argument.\n",
      "  print(torch.argmax(m(net.forward(p[0])[3])))\n"
     ]
    }
   ],
   "source": [
    "t = iter(testloader)\n",
    "p = next(t)\n",
    "p = next(t)\n",
    "m = nn.Softmax()\n",
    "print(torch.argmax(m(net.forward(p[0])[3])))\n",
    "transform = transforms.ToPILImage()\n",
    "img = transform(p[0][3])\n",
    "img.show()\n",
    "\n"
   ]
  },
  {
   "cell_type": "code",
   "execution_count": 47,
   "id": "b3b5f42a",
   "metadata": {},
   "outputs": [
    {
     "data": {
      "text/plain": [
       "23"
      ]
     },
     "execution_count": 47,
     "metadata": {},
     "output_type": "execute_result"
    }
   ],
   "source": [
    "symbols = list(map(str, range(10))) + list(string.ascii_lowercase) \n",
    "symbol_to_id = {key: value for value, key in enumerate(symbols)}\n",
    "symbol_to_id['n']"
   ]
  }
 ],
 "metadata": {
  "kernelspec": {
   "display_name": "Python 3 (ipykernel)",
   "language": "python",
   "name": "python3"
  },
  "language_info": {
   "codemirror_mode": {
    "name": "ipython",
    "version": 3
   },
   "file_extension": ".py",
   "mimetype": "text/x-python",
   "name": "python",
   "nbconvert_exporter": "python",
   "pygments_lexer": "ipython3",
   "version": "3.10.6"
  }
 },
 "nbformat": 4,
 "nbformat_minor": 5
}
